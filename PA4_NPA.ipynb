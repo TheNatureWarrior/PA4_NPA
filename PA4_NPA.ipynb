{
 "cells": [
  {
   "cell_type": "markdown",
   "id": "06666e3c",
   "metadata": {},
   "source": [
    "## Programming Assignment 4: Working w Lists & Tuples\n",
    "### Naat Ambrosino, v1, FA21 CS-150-01 Professor Sarkar"
   ]
  },
  {
   "cell_type": "markdown",
   "id": "d5f1760f",
   "metadata": {},
   "source": [
    "##### Part A"
   ]
  },
  {
   "cell_type": "markdown",
   "id": "2bfbe9d1",
   "metadata": {},
   "source": [
    "i) append()\n",
    "To use append, you must have a list and some object (an integer, a character, a string, a floating number, a list, etc.) For example, you could have ListA and X. Then, you type ListA.append(X) . When you call ListA, you will find it has all its original elements in their original order, and X as its new final element. Thus, the appended version of ListA is one element longer than the original version of ListA. See Example i.1 for an example using append to add a string as the final element of a list, and see Example i.2 for an example using append to add a list as the final element of a list."
   ]
  },
  {
   "cell_type": "code",
   "execution_count": 40,
   "id": "c22f9282",
   "metadata": {},
   "outputs": [
    {
     "data": {
      "text/plain": [
       "['Hi', 'Hola', 'Aloha', 'Salut', 'Hallo']"
      ]
     },
     "execution_count": 40,
     "metadata": {},
     "output_type": "execute_result"
    }
   ],
   "source": [
    "#Example i.1, without text\n",
    "Listi1=[\"Hi\",\"Hola\",\"Aloha\",\"Salut\"]\n",
    "Listi1.append(\"Hallo\")\n",
    "Listi1"
   ]
  },
  {
   "cell_type": "code",
   "execution_count": 43,
   "id": "b9f2841d",
   "metadata": {},
   "outputs": [
    {
     "data": {
      "text/plain": [
       "[1, 2, 3, 4, 5, [2, 4, 6, 8, 10]]"
      ]
     },
     "execution_count": 43,
     "metadata": {},
     "output_type": "execute_result"
    }
   ],
   "source": [
    "#Example i.2, without text\n",
    "Listi3=[1,2,3,4,5]\n",
    "Listi4=[2,4,6,8,10]\n",
    "Listi3.append(Listi4)\n",
    "Listi3"
   ]
  },
  {
   "cell_type": "code",
   "execution_count": 38,
   "id": "7816e547",
   "metadata": {},
   "outputs": [
    {
     "name": "stdout",
     "output_type": "stream",
     "text": [
      "Example i.1\n",
      "The starting list is: ['Hi', 'Hola', 'Aloha', 'Salut'] . It has 4 elements.\n",
      "We want to add an object, Hallo , to the end of the list above without editing the line where it was originally defined. So, we'll use append.\n",
      "Type List.append(Object), replacing List with the name of the list and object with the name of the object you want to insert on the end. After running that to append Hallo to ['Hi', 'Hola', 'Aloha', 'Salut'] , when we call our original list, we find that it is now: ['Hi', 'Hola', 'Aloha', 'Salut', 'Hallo']\n",
      "After appending an object to the end of the list, our list is now ['Hi', 'Hola', 'Aloha', 'Salut', 'Hallo'] , and has 5 elements.\n"
     ]
    }
   ],
   "source": [
    "#Example i.1\n",
    "print(\"Example i.1\")\n",
    "ExListi1=[\"Hi\",\"Hola\",\"Aloha\",\"Salut\"]\n",
    "ExListi2=[\"Hi\",\"Hola\",\"Aloha\",\"Salut\"]\n",
    "print(\"The starting list is:\", ExListi1,\". It has\", len(ExListi1), \"elements.\")\n",
    "ExObjecti1=\"Hallo\"\n",
    "print(\"We want to add an object,\", ExObjecti1 ,\", to the end of the list above without editing the line where it was originally defined. So, we'll use append.\")\n",
    "ExListi1.append(ExObjecti1)\n",
    "print(\"Type List.append(Object), replacing List with the name of the list and object with the name of the object you want to insert on the end. After running that to append\", ExObjecti1,\"to\", ExListi2, \", when we call our original list, we find that it is now:\", ExListi1)\n",
    "print(\"After appending an object to the end of the list, our list is now\", ExListi1,\", and has\", len(ExListi1),\"elements.\")"
   ]
  },
  {
   "cell_type": "code",
   "execution_count": 53,
   "id": "9685015f",
   "metadata": {
    "scrolled": false
   },
   "outputs": [
    {
     "name": "stdout",
     "output_type": "stream",
     "text": [
      "Example i.2\n",
      "The starting list is: [1, 2, 3, 4, 5] . It has length 5\n",
      "We want to tack on a different list ( [2, 4, 6, 8, 10] ) to the end of the list above as its own element. So, we will use append. (If we wanted to tack on the elements of a list to the end of another list, each element seperate, we would use extend.)\n",
      "Type List.append(Object), replacing List with the name of the list and object with the name of the object, in this case another list, you want to insert on the end. After running that to append [2, 4, 6, 8, 10] to [1, 2, 3, 4, 5] , when we call our original list, we find that it is now: [1, 2, 3, 4, 5, [2, 4, 6, 8, 10]]\n",
      "After appending another list to the end of the list, our list is now [1, 2, 3, 4, 5, [2, 4, 6, 8, 10]]  and has 6 elements.\n"
     ]
    }
   ],
   "source": [
    "#Example i.2\n",
    "print(\"Example i.2\")\n",
    "ExListi3=[1,2,3,4,5]\n",
    "ExListi3ORG=[1,2,3,4,5]\n",
    "print(\"The starting list is:\", ExListi3,\". It has length\", len(ExListi3))\n",
    "ExListi4=[2,4,6,8,10]\n",
    "print(\"We want to tack on a different list (\", ExListi4,\") to the end of the list above as its own element. So, we will use append. (If we wanted to tack on the elements of a list to the end of another list, each element seperate, we would use extend.)\")\n",
    "ExListi3.append(ExListi4)\n",
    "print(\"Type List.append(Object), replacing List with the name of the list and object with the name of the object, in this case another list, you want to insert on the end. After running that to append\", ExListi4,\"to\", ExListi3ORG, \", when we call our original list, we find that it is now:\", ExListi3)\n",
    "print(\"After appending another list to the end of the list, our list is now\", ExListi3,\" and has\", len(ExListi3),\"elements.\")"
   ]
  },
  {
   "cell_type": "markdown",
   "id": "f1879068",
   "metadata": {},
   "source": [
    "ii) extend()\n",
    "To use extend, you must have two lists.\n",
    "For example, you could have ListA and ListB. Then, you type ListA.extend(ListB) . When you call ListA, you will find it has all its original elements in their original order, along with the elements of ListB starting after its previous final element. Thus, the extended version of List A will have x more elements than it did before, with x being the number of elements in ListB. See Example ii.1 for an example using extend to tack on the elements of a list to the end of another list."
   ]
  },
  {
   "cell_type": "code",
   "execution_count": 45,
   "id": "d6a10d12",
   "metadata": {},
   "outputs": [
    {
     "data": {
      "text/plain": [
       "[10, 9, 8, 7, 6, 5, 4, 3, 2, 1, 0]"
      ]
     },
     "execution_count": 45,
     "metadata": {},
     "output_type": "execute_result"
    }
   ],
   "source": [
    "#Example ii.1 without text\n",
    "Listii1=[10,9,8,7,6]\n",
    "Listii2=[5,4,3,2,1,0]\n",
    "Listii1.extend(Listii2)\n",
    "Listii1"
   ]
  },
  {
   "cell_type": "code",
   "execution_count": 48,
   "id": "5f542efa",
   "metadata": {},
   "outputs": [
    {
     "name": "stdout",
     "output_type": "stream",
     "text": [
      "Example ii.1\n",
      "The starting list is: [10, 9, 8, 7, 6] . It has 5 elements.\n",
      "We want to tack on the elements of a different list ( [5, 4, 3, 2, 1, 0] ) to the end of the list above. This second list has 6 elements.\n",
      "Type ListA.extend(ListB), replacing ListA with the name of the list you want to edit (and have its elements first), and ListB with the list whose elements you want to insert on the end of ListA. After running that to tack on the elements [5, 4, 3, 2, 1, 0] to the end of [10, 9, 8, 7, 6] , when we call our original list, we find that it is now: [10, 9, 8, 7, 6, 5, 4, 3, 2, 1, 0]\n",
      "After extending our list with another list, our list is now [10, 9, 8, 7, 6, 5, 4, 3, 2, 1, 0] , and has 11 elements.\n"
     ]
    }
   ],
   "source": [
    "#Example ii.1\n",
    "print(\"Example ii.1\")\n",
    "ExListii1=[10,9,8,7,6]\n",
    "ExListii1ORG=[10,9,8,7,6]\n",
    "print(\"The starting list is:\", ExListii1,\". It has\", len(ExListii1),\"elements.\")\n",
    "ExListii2=[5,4,3,2,1,0]\n",
    "print(\"We want to tack on the elements of a different list (\", ExListii2,\") to the end of the list above. This second list has\", len(ExListii2),\"elements.\")\n",
    "ExListii1.extend(ExListii2)\n",
    "print(\"Type ListA.extend(ListB), replacing ListA with the name of the list you want to edit (and have its elements first), and ListB with the list whose elements you want to insert on the end of ListA. After running that to tack on the elements\", ExListii2,\"to the end of\", ExListii1ORG, \", when we call our original list, we find that it is now:\", ExListii1)\n",
    "print(\"After extending our list with another list, our list is now\", ExListii1,\", and has\", len(ExListii1),\"elements.\")"
   ]
  },
  {
   "cell_type": "markdown",
   "id": "a855f778",
   "metadata": {},
   "source": [
    "iii) insert() \n",
    "To use insert, you must have a list and an object. You type List.insert(index,object), where object is the object, list is the list, and index is the index you want to insert the object to. It does not replace an existing element, but instead moves the element at the index to the next index (so, if you insert an element at index 2, the element that was originally at index 2 will now be at index 3.) It quite literally inserts the element at a given position. See Example iii.1."
   ]
  },
  {
   "cell_type": "code",
   "execution_count": 68,
   "id": "cc6dd17c",
   "metadata": {},
   "outputs": [
    {
     "name": "stdout",
     "output_type": "stream",
     "text": [
      "Example iii.1\n",
      "The starting list is ListA, defined as: [1, 2, 3, 5, 6, 7, 8, 9] . It has 8 elements.\n",
      "Notice that there is a number missing from the sequence. We want to insert 4 into the list between 3 and 5. To do this, we will use insert.\n",
      "First, we have to find the index we want to insert it into. To do this, we find the index of the element we want to place it before. The index of the element 5, the element we want to insert 4 infront of, is 3.\n",
      "To use insert, you type List.insert(index,object), where List is the name of the list you want to modify, index is the index of the element you want to insert the object infront of (and thus the index you want the new element to be), and object is the object you want to insert.\n",
      "We will type ListA.insert(3,4), because 3 is the index we want to insert 4 at, and 4 is the object we wish to insert.\n",
      "After running the command, we can then call for ListA again, and we will find that ListA is now [1, 2, 3, 4, 5, 6, 7, 8, 9]\n"
     ]
    }
   ],
   "source": [
    "#Example iii.1\n",
    "print(\"Example iii.1\")\n",
    "ExListiii1=[1,2,3,5,6,7,8,9]\n",
    "ExListiii1ORG=[1,2,3,5,6,7,8,9]\n",
    "print(\"The starting list is ListA, defined as:\", ExListiii1,\". It has\", len(ExListiii1),\"elements.\")\n",
    "print(\"Notice that there is a number missing from the sequence. We want to insert 4 into the list between 3 and 5. To do this, we will use insert.\")\n",
    "print(\"First, we have to find the index we want to insert it into. To do this, we find the index of the element we want to place it before. The index of the element 5, the element we want to insert 4 infront of, is 3.\")\n",
    "print(\"To use insert, you type List.insert(index,object), where List is the name of the list you want to modify, index is the index of the element you want to insert the object infront of (and thus the index you want the new element to be), and object is the object you want to insert.\")\n",
    "print(\"We will type ListA.insert(3,4), because 3 is the index we want to insert 4 at, and 4 is the object we wish to insert.\")\n",
    "ExListiii1.insert(3,4)\n",
    "print(\"After running the command, we can then call for ListA again, and we will find that ListA is now\", ExListiii1)"
   ]
  },
  {
   "cell_type": "code",
   "execution_count": 46,
   "id": "7b4aee41",
   "metadata": {},
   "outputs": [
    {
     "data": {
      "text/plain": [
       "[1, 2, 3, 4, 5, 6, 7, 8, 9]"
      ]
     },
     "execution_count": 46,
     "metadata": {},
     "output_type": "execute_result"
    }
   ],
   "source": [
    "#Example iii.1, without text\n",
    "Listiii1=[1,2,3,5,6,7,8,9]\n",
    "Listiii1.insert(3,4)\n",
    "Listiii1"
   ]
  },
  {
   "cell_type": "markdown",
   "id": "84254e18",
   "metadata": {},
   "source": [
    "iv) remove()\n",
    "To use remove, you must have a list, and an element in said list you wish to remove. To use remove, you type List.remove(element), where List is the list you wish to edit, and element is the value of the you wish to remove. When you call the list again, it will be the same list except without the first occurance of that element. It permenantly edits the list, and to add the element back in, you must use some other function or redefine the list as a whole. If your input is not in the list, it will return an error. See Example iv.1 and Example iv.2"
   ]
  },
  {
   "cell_type": "code",
   "execution_count": 28,
   "id": "3b2538c1",
   "metadata": {
    "scrolled": true
   },
   "outputs": [
    {
     "name": "stdout",
     "output_type": "stream",
     "text": [
      "Example iv.1\n",
      "Say we have a list, ListA, defined by [1, 2, 3, 4, 5, 6, 7, 8, 9, 23, 10] . It has 11 elements.\n",
      "Notice one element, 23, does not belong in the sequence. We will use remove to get rid of it.\n",
      "To use remove, type List.remove(element), where list is the name of the list you want to edit, and element is the element you want to remove.\n",
      "In this case, we will type ListA.remove(23), and when we call ListA again, it is now [1, 2, 3, 4, 5, 6, 7, 8, 9, 10] and has 10 elements.\n"
     ]
    }
   ],
   "source": [
    "#Example iv.1\n",
    "print(\"Example iv.1\")\n",
    "ListExiv1=[1,2,3,4,5,6,7,8,9,23,10]\n",
    "print(\"Say we have a list, ListA, defined by\", ListExiv1,\". It has\", len(ListExiv1), \"elements.\")\n",
    "print(\"Notice one element, 23, does not belong in the sequence. We will use remove to get rid of it.\")\n",
    "print(\"To use remove, type List.remove(element), where list is the name of the list you want to edit, and element is the element you want to remove.\")\n",
    "ListExiv1.remove(23)\n",
    "print(\"In this case, we will type ListA.remove(23), and when we call ListA again, it is now\", ListExiv1, \"and has\", len(ListExiv1), \"elements.\")"
   ]
  },
  {
   "cell_type": "code",
   "execution_count": 47,
   "id": "1020de4d",
   "metadata": {},
   "outputs": [
    {
     "data": {
      "text/plain": [
       "[1, 2, 3, 4, 5, 6, 7, 8, 9, 10]"
      ]
     },
     "execution_count": 47,
     "metadata": {},
     "output_type": "execute_result"
    }
   ],
   "source": [
    "#Example iv.1, without text\n",
    "Listiv1=[1,2,3,4,5,6,7,8,9,23,10]\n",
    "Listiv1.remove(23)\n",
    "Listiv1"
   ]
  },
  {
   "cell_type": "code",
   "execution_count": 77,
   "id": "c4d755fc",
   "metadata": {},
   "outputs": [
    {
     "name": "stdout",
     "output_type": "stream",
     "text": [
      "Example iv.2\n",
      "Say we have a list, ListB, defined by [1, 2, 3, 4, 5, 6, 7, 8, 9, 9, 10] . It has 11 elements.\n",
      "Notice one element, 9, is repeated. We will use remove to get rid of one instance of it.\n",
      "To use remove, type List.remove(element), where list is the name of the list you want to edit, and element is the element you want to remove.\n",
      "In this case, we will type ListB.remove(9), and when we call ListB again, it is now [1, 2, 3, 4, 5, 6, 7, 8, 9, 10] and has 10 elements.\n"
     ]
    }
   ],
   "source": [
    "#Example iv.2\n",
    "print(\"Example iv.2\")\n",
    "ListExiv3=[1,2,3,4,5,6,7,8,9,9,10]\n",
    "ListExiv4=[1,2,3,4,5,6,7,8,9,9,10]\n",
    "print(\"Say we have a list, ListB, defined by\", ListExiv3,\". It has\", len(ListExiv3), \"elements.\")\n",
    "print(\"Notice one element, 9, is repeated. We will use remove to get rid of one instance of it.\")\n",
    "print(\"To use remove, type List.remove(element), where list is the name of the list you want to edit, and element is the element you want to remove.\")\n",
    "ListExiv3.remove(9)\n",
    "print(\"In this case, we will type ListB.remove(9), and when we call ListB again, it is now\", ListExiv3, \"and has\", len(ListExiv3), \"elements.\")"
   ]
  },
  {
   "cell_type": "code",
   "execution_count": 48,
   "id": "dbce0549",
   "metadata": {},
   "outputs": [
    {
     "data": {
      "text/plain": [
       "[1, 2, 3, 4, 5, 6, 7, 8, 9, 10]"
      ]
     },
     "execution_count": 48,
     "metadata": {},
     "output_type": "execute_result"
    }
   ],
   "source": [
    "#Example iv.2, without text\n",
    "Listiv3=[1,2,3,4,5,6,7,8,9,9,10]\n",
    "Listiv3.remove(9)\n",
    "Listiv3"
   ]
  },
  {
   "cell_type": "markdown",
   "id": "2f706a2c",
   "metadata": {},
   "source": [
    "v) count() To use count, you must have a list and a value. You use it to find the amount of times the value is an element in the list. It does not count an occurance of the value in the list if the occurance is an element of a list within the list. To count a value x within a list called list1, you would type list1.count(1) . This does not modify the list, just returns the number of occurances it counted. See Example v.1 for using the counting function with a simple list, see Example v.2 for using a counting function for a list within a list. "
   ]
  },
  {
   "cell_type": "code",
   "execution_count": 27,
   "id": "c939e890",
   "metadata": {},
   "outputs": [
    {
     "name": "stdout",
     "output_type": "stream",
     "text": [
      "Example v.1\n",
      "Say we have a list, Listv1, defined by ['e', 'l', 'e', 'm', 'e', 'n', 't', 's'] , the letters of the word elements each seperated into elements. It has 8 elements, and by counting manually, we can see it has 3 occurances of the element 'e'.\n",
      "Say we don't want to count the e's manually-- we can use the count function to count them for us.\n",
      "To use count, type List.count(value), where list is the name of the list you'd like to reference, and value is the value you want to count the occurances of.\n",
      "In this case, we will type Listv1.count(e), and that function will return 3 , which agrees with our manual count.\n"
     ]
    }
   ],
   "source": [
    "#Example v.1\n",
    "print(\"Example v.1\")\n",
    "Listv1=[\"e\",\"l\",\"e\",\"m\",\"e\",\"n\",\"t\",\"s\"]\n",
    "print(\"Say we have a list, Listv1, defined by\", Listv1, \", the letters of the word elements each seperated into elements. It has\", len(Listv1), \"elements, and by counting manually, we can see it has 3 occurances of the element 'e'.\")\n",
    "print(\"Say we don't want to count the e's manually-- we can use the count function to count them for us.\")\n",
    "print(\"To use count, type List.count(value), where list is the name of the list you'd like to reference, and value is the value you want to count the occurances of.\")\n",
    "print(\"In this case, we will type Listv1.count(e), and that function will return\", Listv1.count(\"e\"), \", which agrees with our manual count.\")"
   ]
  },
  {
   "cell_type": "code",
   "execution_count": 51,
   "id": "77150f25",
   "metadata": {},
   "outputs": [
    {
     "data": {
      "text/plain": [
       "3"
      ]
     },
     "execution_count": 51,
     "metadata": {},
     "output_type": "execute_result"
    }
   ],
   "source": [
    "#Example v.1, without text\n",
    "Listv1=[\"e\",\"l\",\"e\",\"m\",\"e\",\"n\",\"t\",\"s\"]\n",
    "Listv1.count('e')"
   ]
  },
  {
   "cell_type": "code",
   "execution_count": 35,
   "id": "921f7c96",
   "metadata": {},
   "outputs": [
    {
     "name": "stdout",
     "output_type": "stream",
     "text": [
      "Example v.2\n",
      "Say we have a list, Listv2, defined by [['v', 'l', 's'], ['a', 'u', 'e']] , the letters of the word values each seperated into elements, with the consonents in one internal list at index 0, and the vowels in an internal list at index 1. It has 2 elements, and by counting manually, we can see it has 1 occurances of the element 'a'.\n",
      "Say we want to count the amount of a's via the count function, like we did in Example v.1. Let's try that out:\n",
      "We type Listv2.count('a') and get:\n",
      "0\n",
      "... which isn't what we wanted to get. This is because the vowels are in their own list within the list. Count only checks if each index position is the requested value, not if the index position contains the requested value.\n",
      "We know all the vowels are in index position 1. Therefore, we can type Listv2[1].count('a'), and we get:\n",
      "1\n",
      "... which is what we wanted! If we wanted to search multiple index positions for lists within lists, we could use a for loop or just type in each index that is a list within a list manually.\n"
     ]
    }
   ],
   "source": [
    "#Example v.2\n",
    "print(\"Example v.2\")\n",
    "Listv2=[[\"v\",\"l\",\"s\"],[\"a\",\"u\",\"e\"]]\n",
    "print(\"Say we have a list, Listv2, defined by\", Listv2, \", the letters of the word values each seperated into elements, with the consonents in one internal list at index 0, and the vowels in an internal list at index 1. It has\", len(Listv2), \"elements, and by counting manually, we can see it has 1 occurances of the element 'a'.\")\n",
    "print(\"Say we want to count the amount of a's via the count function, like we did in Example v.1. Let's try that out:\")\n",
    "print(\"We type Listv2.count('a') and get:\")\n",
    "print(Listv2.count(\"a\"))\n",
    "print(\"... which isn't what we wanted to get. This is because the vowels are in their own list within the list. Count only checks if each index position is the requested value, not if the index position contains the requested value.\")\n",
    "print(\"We know all the vowels are in index position 1. Therefore, we can type Listv2[1].count('a'), and we get:\")\n",
    "print(Listv2[1].count(\"a\"))\n",
    "print(\"... which is what we wanted! If we wanted to search multiple index positions for lists within lists, we could use a for loop or just type in each index that is a list within a list manually.\")"
   ]
  },
  {
   "cell_type": "code",
   "execution_count": 54,
   "id": "7aa1d28e",
   "metadata": {},
   "outputs": [
    {
     "name": "stdout",
     "output_type": "stream",
     "text": [
      "0 1\n"
     ]
    }
   ],
   "source": [
    "#Example v.2 without text\n",
    "Listv2=[[\"v\",\"l\",\"s\"],[\"a\",\"u\",\"e\"]]\n",
    "print(Listv2.count(\"a\"), Listv2[1].count(\"a\"))"
   ]
  },
  {
   "cell_type": "markdown",
   "id": "fbc5719e",
   "metadata": {},
   "source": [
    "vi) index() The index function can be used to find the first index of a given value within a list. To use the index function, type List.index(value), where list is the name of the list you want to search in and value is the value you'd like to find the index for. If you'd like to search within a certain range of indicies, you can use List.index(value, start=x, stop=y), where x is the the index you'd like to start the search at, and y is the index you'd like to stop the search at. See Example vi.1 and vi.2"
   ]
  },
  {
   "cell_type": "code",
   "execution_count": 56,
   "id": "9d4f6110",
   "metadata": {},
   "outputs": [
    {
     "name": "stdout",
     "output_type": "stream",
     "text": [
      "[5, 2, 1, 4, 3, 4, 2, 5, 3, 1, 2, 3, 1, 2, 4, 3, 3, 5, 3, 5, 4, 5, 4, 3, 4, 4, 4, 5, 5, 2] 2\n"
     ]
    }
   ],
   "source": [
    "#Example vi.1\n",
    "import random\n",
    "vi1=[random.randrange(1,6) for i in range(30)]\n",
    "print(vi1, vi1.index(1)) #finding index at which 1 occurs for the first time"
   ]
  },
  {
   "cell_type": "code",
   "execution_count": 58,
   "id": "57c592dd",
   "metadata": {},
   "outputs": [
    {
     "name": "stdout",
     "output_type": "stream",
     "text": [
      "[5, 3, 5, 1, 1, 5, 2, 3, 4, 2, 5, 3, 3, 2, 2, 2, 4, 5, 3, 4, 5, 1, 5, 4, 5, 4, 3, 3, 4, 3] 21\n"
     ]
    }
   ],
   "source": [
    "#Example vi.1\n",
    "import random\n",
    "vi2=[random.randrange(1,6) for i in range(30)]\n",
    "print(vi1, vi1.index(1,15)) #finding index at which 1 occurs for the first time in the latter half of the list"
   ]
  },
  {
   "cell_type": "markdown",
   "id": "23d9d146",
   "metadata": {},
   "source": [
    "vii) pop() To use pop, you must have a list and a index position you are interested in. When you type List.pop(index), where list is the list you want to use and index is the index position of the element you're interested in. Imagine this function as a balloon popping game at a carnival. See Example vii.1 for a corresponding block of code for this metaphor. The board has 5 balloons tacked on (the board is a list, with each balloon representing an element): the first is red, the second is orange, the third is green, the fourth is blue, and the fifth is purple. These colors are arbitary, both within and without the context of the metaphor: I only mention them for clarity down the line. You do not know which prize each balloon contains. You pop the third balloon (you run the function Board.pop(2)...), and find that it contains a small prize (... it returns \"small\".) When you look at the board now, you see that since you popped what was the third balloon, there are now only 4 balloons: the first is red, second is orange, third is blue, and fourth is purple. (You now call the list, and see that the element that was at index 2 before you ran Board.pop(2) has been removed from the list.) You pop another, and the same thing happens: you find out what was within that ballon (index), and it is removed from the board (list). See Example vii.2 for an interactive version."
   ]
  },
  {
   "cell_type": "code",
   "execution_count": 64,
   "id": "e5fb70db",
   "metadata": {},
   "outputs": [
    {
     "name": "stdout",
     "output_type": "stream",
     "text": [
      "medium\n",
      "['small', 'grand', 'small', 'no']\n"
     ]
    }
   ],
   "source": [
    "Board=['small','grand','small','medium','no']\n",
    "print(Board.pop(3))\n",
    "print(Board)"
   ]
  },
  {
   "cell_type": "code",
   "execution_count": 110,
   "id": "6057c464",
   "metadata": {},
   "outputs": [
    {
     "name": "stdout",
     "output_type": "stream",
     "text": [
      "How many balloons do you want on the board?:  50\n",
      "How many chances do you want?:  5\n",
      "Each of the balloons has a number, 1 through 50\n",
      "Which would you like to pop?:  6\n",
      "You got a medium prize!\n",
      "Each of the balloons has a number, 1 through 49\n",
      "Which would you like to pop?:  6\n",
      "You got a medium prize!\n",
      "Each of the balloons has a number, 1 through 48\n",
      "Which would you like to pop?:  6\n",
      "You got a small prize!\n",
      "Each of the balloons has a number, 1 through 47\n",
      "Which would you like to pop?:  6\n",
      "You got no prize. Sorry!\n",
      "Each of the balloons has a number, 1 through 46\n",
      "Which would you like to pop?:  6\n",
      "You got no prize. Sorry!\n"
     ]
    }
   ],
   "source": [
    "import random\n",
    "prizes=['You got a small prize!','You got a medium prize!','You got a grand prize!','You got no prize. Sorry!']\n",
    "weight=[.3,.2,.1,.4]\n",
    "balloons=int(input(\"How many balloons do you want on the board?:  \"))\n",
    "chances=int(input(\"How many chances do you want?:  \"))\n",
    "if chances>balloons:\n",
    "    print(\"That doesn't work! Try again, with either less or just as many chances as balloons.\")\n",
    "elif balloons<=1:\n",
    "    print(\"Try more balloons!\")\n",
    "elif chances<=0:\n",
    "    print(\"Try having at least one chance!\")\n",
    "else:\n",
    "    theBoard=random.choices(prizes,weight,k=balloons)\n",
    "    #print(theBoard)\n",
    "    if \"You got a grand prize!\" not in theBoard:\n",
    "        theBoard[random.randrange(len(theBoard))]=\"You got a grand prize!\"\n",
    "    copied=theBoard.copy()\n",
    "    #print(theBoard)\n",
    "    #print(copied)\n",
    "    for i in range(chances):\n",
    "        print(\"Each of the balloons has a number, 1 through\", len(theBoard))\n",
    "        x=int(input(\"Which would you like to pop?:  \"))\n",
    "        print(theBoard.pop(x-1))"
   ]
  },
  {
   "cell_type": "markdown",
   "id": "d10cf633",
   "metadata": {},
   "source": [
    "viii) sorted() To use sorted, you have to have a list. Then, type sorted(list), where list is the name of the list you'd like to sort. Then the output of that function will be a list comprised of the elements of the original list, sorted in ascending order. See Example viii.1. You can also type sorted(list,reverse=True), which will return a list in descending order."
   ]
  },
  {
   "cell_type": "code",
   "execution_count": 122,
   "id": "a06eb482",
   "metadata": {},
   "outputs": [
    {
     "name": "stdout",
     "output_type": "stream",
     "text": [
      "List A is: [12, 18, 12, 14, 2, 13, 3, 11, 15, 16]\n",
      "List A sorted is: [2, 3, 11, 12, 12, 13, 14, 15, 16, 18]\n",
      "List A is still: [12, 18, 12, 14, 2, 13, 3, 11, 15, 16]\n",
      "If we say List B=sorted(List A), List B is: [2, 3, 11, 12, 12, 13, 14, 15, 16, 18]\n"
     ]
    }
   ],
   "source": [
    "#Example viii.1\n",
    "viii1=[random.randrange(25) for i in range(10)]\n",
    "print(\"List A is:\", viii1)\n",
    "print(\"List A sorted is:\", sorted(viii1))\n",
    "print(\"List A is still:\", viii1)\n",
    "viii2=sorted(viii1)\n",
    "print(\"If we say List B=sorted(List A), List B is:\", viii2)"
   ]
  },
  {
   "cell_type": "code",
   "execution_count": 123,
   "id": "cb83a540",
   "metadata": {},
   "outputs": [
    {
     "name": "stdout",
     "output_type": "stream",
     "text": [
      "List A is: [24, 14, 19, 18, 6, 0, 15, 7, 21, 19]\n",
      "List A sorted in descending order is: [24, 21, 19, 19, 18, 15, 14, 7, 6, 0]\n",
      "List A is still: [24, 14, 19, 18, 6, 0, 15, 7, 21, 19]\n",
      "If we say List B=sorted(List A,reverse=True), List B is: [24, 21, 19, 19, 18, 15, 14, 7, 6, 0]\n"
     ]
    }
   ],
   "source": [
    "#Example viii.2\n",
    "viii3=[random.randrange(25) for i in range(10)]\n",
    "print(\"List A is:\", viii3)\n",
    "print(\"List A sorted in descending order is:\", sorted(viii3,reverse=True))\n",
    "print(\"List A is still:\", viii3)\n",
    "viii4=sorted(viii3,reverse=True)\n",
    "print(\"If we say List B=sorted(List A,reverse=True), List B is:\", viii4)"
   ]
  },
  {
   "cell_type": "markdown",
   "id": "e6f45dc8",
   "metadata": {},
   "source": [
    "ix) copy() List.copy(), where list is a list you'd like to copy, returns an identical copy of the inputted list. This is useful when you'd like to save a list in a given state, especially if the list is defined or editted in part randomly.\n"
   ]
  },
  {
   "cell_type": "code",
   "execution_count": 127,
   "id": "53ee75da",
   "metadata": {},
   "outputs": [
    {
     "name": "stdout",
     "output_type": "stream",
     "text": [
      "Which element, 0 to 9, would you like to remove from a random list?:  5\n",
      "The list was [7, 23, 3, 9, 4, 1, 18, 17, 21, 3] and it is now [7, 23, 3, 9, 4, 18, 17, 21, 3]\n"
     ]
    }
   ],
   "source": [
    "#Example ix, a semi useless interactive program, could be used as a base for a deal or no deal kind of game or a childrens spot the difference game\n",
    "ix1=[random.randrange(25) for i in range(10)]\n",
    "ix2=ix1.copy()\n",
    "x=int(input(\"Which element, 0 to 9, would you like to remove from a random list?:  \"))\n",
    "ix1.pop(x)\n",
    "print(\"The list was\", ix2, \"and it is now\", ix1)"
   ]
  },
  {
   "cell_type": "markdown",
   "id": "fc0159ae",
   "metadata": {},
   "source": [
    "x) clear() To use clear, type List.clear(), where List is the name of the list you'd like to edit. This clears out the entire list permanently."
   ]
  },
  {
   "cell_type": "code",
   "execution_count": 132,
   "id": "e316ee3f",
   "metadata": {},
   "outputs": [
    {
     "name": "stdout",
     "output_type": "stream",
     "text": [
      "List A is: [1, 2, 3, 4, 5, 6]\n",
      "After typing ListA.clear(), List A is: []\n"
     ]
    }
   ],
   "source": [
    "x1=[1,2,3,4,5,6]\n",
    "print(\"List A is:\", x1)\n",
    "x1.clear()\n",
    "print(\"After typing ListA.clear(), List A is:\", x1)"
   ]
  },
  {
   "cell_type": "markdown",
   "id": "0c164ded",
   "metadata": {},
   "source": [
    "xi) any() to use any, type any(list), where list is the list you'd like to reference. any() returns true if at least one of the elements of the list is true, and false if none of them are true (or the list is empty). Best used if the elements of the list are conditionals, but interestingly, if you have a list that has at least one element that is neither a conditional nor 0 or False (without quotes), it will always return True. Thus, if something is not inherently False, and is not a boolean function, it's boolean value is True."
   ]
  },
  {
   "cell_type": "code",
   "execution_count": 140,
   "id": "be9ed993",
   "metadata": {},
   "outputs": [
    {
     "name": "stdout",
     "output_type": "stream",
     "text": [
      "Input a number: 420\n",
      "The number has each of the single digit primes as a factor.\n"
     ]
    }
   ],
   "source": [
    "#Example xi.1\n",
    "x=int(input(\"Input a number: \"))\n",
    "xi1=[x%2!=0,x%3!=0,x%5!=0,x%7!=0]\n",
    "if any(xi1):\n",
    "    print(\"The number is relatively prime to at least one of the single digit primes.\")\n",
    "else: #Try 210, the product of 2,3,5, and 7, to get this result, or a multiple of 210\n",
    "    print(\"The number has each of the single digit primes as a factor.\")"
   ]
  },
  {
   "cell_type": "code",
   "execution_count": 147,
   "id": "6f7d4619",
   "metadata": {},
   "outputs": [
    {
     "data": {
      "text/plain": [
       "True"
      ]
     },
     "execution_count": 147,
     "metadata": {},
     "output_type": "execute_result"
    }
   ],
   "source": [
    "xi2=[\"False\"] #Put any element into xi2 that is not a conditional\n",
    "any(xi2) #Notice that if the element in xi2 is anything except 0 or False (with no quotation marks), it will return true."
   ]
  },
  {
   "cell_type": "markdown",
   "id": "df342bec",
   "metadata": {},
   "source": [
    "xii) filter() To use the filter function, you (typically) type list(filter(function,listName)), where function is the name of the function you wish to use as a filter, and listName is the list you wish to have filtered. Filter runs each element of the referenced list through the function, and if the function returns a value and the value isn't False (or 0), the original element will appear as an element in the list created via list(filter(function,listName)). See Example xii.1, Example xii.2, and Example xii.3"
   ]
  },
  {
   "cell_type": "code",
   "execution_count": 246,
   "id": "fdd3a3f1",
   "metadata": {},
   "outputs": [
    {
     "name": "stdout",
     "output_type": "stream",
     "text": [
      "List with each element being a random whole number from 0 to 4999, after being filtered so each remaining element has 8 as at least one of its digits:\n",
      "[2383, 842, 4888, 2438, 3786, 681, 3083, 1708, 3618, 78, 4098, 1486, 598, 4968, 4381, 4825, 1481, 2382, 4184]\n",
      "\n",
      "List with each element being a random whole number from 0 to 4999 as long as one of its digits is 8, after being filtered so each remaining element is greater than 500:\n",
      "[2383, 842, 4888, 2438, 3786, 681, 3083, 1708, 3618, 4098, 1486, 598, 4968, 4381, 4825, 1481, 2382, 4184]\n",
      "\n",
      "List with each element being a random whole number from 501 to 4999 as long as one of its digits is 8, after being filtered so each remaining element is even:\n",
      "[842, 4888, 2438, 3786, 1708, 3618, 4098, 1486, 598, 4968, 2382, 4184]\n"
     ]
    }
   ],
   "source": [
    "#Example xii.1\n",
    "def isEven(x):\n",
    "    if x%2==0:\n",
    "        return x\n",
    "def isGreaterThan500(x):\n",
    "    if x>500:\n",
    "        return x\n",
    "def contains8(x):\n",
    "    listVersionOfNumber=list(str(x)) #seperates each digit of x into a different element of a list, each being a string\n",
    "    if '8' in listVersionOfNumber:\n",
    "        return x\n",
    "listx1=[random.randrange(5000) for i in range(50)]\n",
    "listx2=list(filter(contains8,listx1))\n",
    "print(\"List with each element being a random whole number from 0 to 4999, after being filtered so each remaining element has 8 as at least one of its digits:\")\n",
    "print(listx2)\n",
    "print()\n",
    "listx3=list(filter(isGreaterThan500,listx2))\n",
    "print(\"List with each element being a random whole number from 0 to 4999 as long as one of its digits is 8, after being filtered so each remaining element is greater than 500:\")\n",
    "print(listx3)\n",
    "print()\n",
    "listx4=list(filter(isEven,listx3))\n",
    "print(\"List with each element being a random whole number from 501 to 4999 as long as one of its digits is 8, after being filtered so each remaining element is even:\")\n",
    "print(listx4)"
   ]
  },
  {
   "cell_type": "code",
   "execution_count": 230,
   "id": "d50bfb3d",
   "metadata": {},
   "outputs": [
    {
     "name": "stdout",
     "output_type": "stream",
     "text": [
      "Original List:\n",
      "[12, 21, 41, -41, 0, 36, 0, True, False, 'True', 'False', 1, 0, True, False]\n",
      "List after being filtered through simple function:\n",
      "[12, 21, 41, -41, 36, True, 'True', 'False', 1, True]\n",
      "Elements that were removed:\n",
      "[0, 0, False, 0, False]\n"
     ]
    }
   ],
   "source": [
    "#Example xii.2\n",
    "xii2=[12,21,41,-41,0,36,0,True,False,\"True\",\"False\",1,0,1==1,1==2]\n",
    "print(\"Original List:\")\n",
    "print(xii2)\n",
    "def exampleFunctionforxii2(x):\n",
    "    return x\n",
    "xii3=list(filter(exampleFunctionforxii2,xii2))\n",
    "print(\"List after being filtered through simple function:\")\n",
    "print(xii3)\n",
    "for i in xii3:\n",
    "    xii2.remove(i)\n",
    "print(\"Elements that were removed:\")\n",
    "print(xii2)"
   ]
  },
  {
   "cell_type": "code",
   "execution_count": 259,
   "id": "4e17b0ca",
   "metadata": {},
   "outputs": [
    {
     "name": "stdout",
     "output_type": "stream",
     "text": [
      "Original list:\n",
      "[1, 2, 3, 4, 5, 6, 7, 8, 9, 10]\n",
      "List after being filtered through function which returns input multiplied by 2:\n",
      "[1, 2, 3, 4, 5, 6, 7, 8, 9, 10]\n"
     ]
    }
   ],
   "source": [
    "#Example xii.3\n",
    "xii4=[1,2,3,4,5,6,7,8,9,10]\n",
    "def exampleFunctionforxii3(x):\n",
    "    return x*2\n",
    "print(\"Original list:\")\n",
    "print(xii4)\n",
    "xii5=list(filter(exampleFunctionforxii3,xii4))\n",
    "print(\"List after being filtered through function which returns input multiplied by 2:\")\n",
    "print(xii5) #Note no change"
   ]
  },
  {
   "cell_type": "markdown",
   "id": "e9806053",
   "metadata": {},
   "source": [
    "xiii) list() To use list, type list(x), where x is an iterable. It will create a list, where each value of the iterable is an element in the list. See Examples xiii.1-4"
   ]
  },
  {
   "cell_type": "code",
   "execution_count": 232,
   "id": "4ebff597",
   "metadata": {},
   "outputs": [
    {
     "name": "stdout",
     "output_type": "stream",
     "text": [
      "[0, 1, 2, 3, 4, 5, 6, 7, 8, 9]\n"
     ]
    }
   ],
   "source": [
    "#Example xiii.1\n",
    "xiii1=list(range(10))\n",
    "print(xiii1)"
   ]
  },
  {
   "cell_type": "code",
   "execution_count": 234,
   "id": "3be9029f",
   "metadata": {},
   "outputs": [
    {
     "name": "stdout",
     "output_type": "stream",
     "text": [
      "['H', 'e', 'l', 'l', 'o']\n"
     ]
    }
   ],
   "source": [
    "#Example xiii.2\n",
    "xiii2=list(\"Hello\")\n",
    "print(xiii2)"
   ]
  },
  {
   "cell_type": "code",
   "execution_count": 236,
   "id": "ca54b5b8",
   "metadata": {},
   "outputs": [
    {
     "name": "stdout",
     "output_type": "stream",
     "text": [
      "[]\n"
     ]
    }
   ],
   "source": [
    "#Example xiii.3\n",
    "xiii3=list()\n",
    "print(xiii3)"
   ]
  },
  {
   "cell_type": "code",
   "execution_count": 237,
   "id": "f5751abe",
   "metadata": {},
   "outputs": [
    {
     "ename": "TypeError",
     "evalue": "'int' object is not iterable",
     "output_type": "error",
     "traceback": [
      "\u001b[1;31m---------------------------------------------------------------------------\u001b[0m",
      "\u001b[1;31mTypeError\u001b[0m                                 Traceback (most recent call last)",
      "\u001b[1;32m<ipython-input-237-62caa110964d>\u001b[0m in \u001b[0;36m<module>\u001b[1;34m\u001b[0m\n\u001b[0;32m      1\u001b[0m \u001b[1;31m#Example xiii.4\u001b[0m\u001b[1;33m\u001b[0m\u001b[1;33m\u001b[0m\u001b[1;33m\u001b[0m\u001b[0m\n\u001b[1;32m----> 2\u001b[1;33m \u001b[0mxiii4\u001b[0m\u001b[1;33m=\u001b[0m\u001b[0mlist\u001b[0m\u001b[1;33m(\u001b[0m\u001b[1;36m1\u001b[0m\u001b[1;33m)\u001b[0m\u001b[1;33m\u001b[0m\u001b[1;33m\u001b[0m\u001b[0m\n\u001b[0m\u001b[0;32m      3\u001b[0m \u001b[0mprint\u001b[0m\u001b[1;33m(\u001b[0m\u001b[0mxiii4\u001b[0m\u001b[1;33m)\u001b[0m\u001b[1;33m\u001b[0m\u001b[1;33m\u001b[0m\u001b[0m\n",
      "\u001b[1;31mTypeError\u001b[0m: 'int' object is not iterable"
     ]
    }
   ],
   "source": [
    "#Example xiii.4\n",
    "xiii4=list(1)\n",
    "print(xiii4)"
   ]
  },
  {
   "cell_type": "markdown",
   "id": "471335c3",
   "metadata": {},
   "source": [
    "xiv) map()  To use the map function, you (typically) type list(map(function,listName)), where function is the name of the function you wish to apply, and listName is the list you wish to have referenced. Map runs each element of the referenced list through the function, and applies the effects of the function onto each element. It works very similarly to filter, except it actually changes elements, not removes them. If an element is not returned by the function (modified or otherwise), it is replaced by None. See Example xiv.1, Example xiv.2, and Example xiv.3, which mirror the filter examples."
   ]
  },
  {
   "cell_type": "code",
   "execution_count": 249,
   "id": "94d841bf",
   "metadata": {},
   "outputs": [
    {
     "name": "stdout",
     "output_type": "stream",
     "text": [
      "Original List:\n",
      "[4231, 3682, 4554, 3436, 4946, 1316, 3415, 128, 3968, 1687, 1286, 4000, 4945, 765, 1848, 102, 4288, 1704, 1625, 832]\n",
      "\n",
      "List after being mapped through function that returns input if input contains the digit 8:\n",
      "[None, 3682, None, None, None, None, None, 128, 3968, 1687, 1286, None, None, None, 1848, None, 4288, None, None, 832]\n",
      "\n",
      "List after being mapped through function that returns input if input is greater than 500:\n",
      "[4231, 3682, 4554, 3436, 4946, 1316, 3415, None, 3968, 1687, 1286, 4000, 4945, 765, 1848, None, 4288, 1704, 1625, 832]\n",
      "\n",
      "List after being mapped through function that returns input if input is even:\n",
      "[None, 3682, 4554, 3436, 4946, 1316, None, 128, 3968, None, 1286, 4000, None, None, 1848, 102, 4288, 1704, None, 832]\n"
     ]
    }
   ],
   "source": [
    "#Example xiv.1\n",
    "def isEven(x):\n",
    "    if x%2==0:\n",
    "        return x\n",
    "def isGreaterThan500(x):\n",
    "    if x>500:\n",
    "        return x\n",
    "def contains8(x):\n",
    "    listVersionOfNumber=list(str(x)) #seperates each digit of x into a different element of a list, each being a string\n",
    "    if '8' in listVersionOfNumber:\n",
    "        return x\n",
    "listx1=[random.randrange(5000) for i in range(20)]\n",
    "print(\"Original List:\")\n",
    "print(listx1)\n",
    "print()\n",
    "listx2=list(map(contains8,listx1))\n",
    "print(\"List after being mapped through function that returns input if input contains the digit 8:\")\n",
    "print(listx2)\n",
    "print()\n",
    "listx3=list(map(isGreaterThan500,listx1))\n",
    "print(\"List after being mapped through function that returns input if input is greater than 500:\")\n",
    "print(listx3)\n",
    "print()\n",
    "listx4=list(map(isEven,listx1))\n",
    "print(\"List after being mapped through function that returns input if input is even:\")\n",
    "print(listx4)"
   ]
  },
  {
   "cell_type": "code",
   "execution_count": 255,
   "id": "08257cb3",
   "metadata": {},
   "outputs": [
    {
     "name": "stdout",
     "output_type": "stream",
     "text": [
      "Original List:\n",
      "[12, 21, 41, -41, 0, 36, 0, True, False, 'True', 'False', 1, 0, True, False]\n",
      "List after being mapped through simple function:\n",
      "[12, 21, 41, -41, 0, 36, 0, True, False, 'True', 'False', 1, 0, True, False]\n",
      "Elements that were changed:\n",
      "[]\n"
     ]
    }
   ],
   "source": [
    "#Example xiv.2\n",
    "xiv2=[12,21,41,-41,0,36,0,True,False,\"True\",\"False\",1,0,1==1,1==2]\n",
    "print(\"Original List:\")\n",
    "print(xiv2)\n",
    "def exampleFunctionforxiv2(x):\n",
    "    return x\n",
    "xiv3=list(map(exampleFunctionforxiv2,xiv2))\n",
    "print(\"List after being mapped through simple function:\")\n",
    "print(xiv3)\n",
    "for i in xiv3:\n",
    "    if i in xiv2:\n",
    "        xiv2.remove(i)\n",
    "print(\"Elements that were changed:\")\n",
    "print(xiv2)"
   ]
  },
  {
   "cell_type": "code",
   "execution_count": 260,
   "id": "9c0c952b",
   "metadata": {},
   "outputs": [
    {
     "name": "stdout",
     "output_type": "stream",
     "text": [
      "Original list:\n",
      "[1, 2, 3, 4, 5, 6, 7, 8, 9, 10]\n",
      "List after being mapped through function that returns input multiplied by 2:\n",
      "[2, 4, 6, 8, 10, 12, 14, 16, 18, 20]\n"
     ]
    }
   ],
   "source": [
    "#Example xiv.3\n",
    "xiv4=[1,2,3,4,5,6,7,8,9,10]\n",
    "def exampleFunctionforxiv3(x):\n",
    "    return x*2\n",
    "print(\"Original list:\")\n",
    "print(xiv4)\n",
    "xiv5=list(map(exampleFunctionforxiv3,xiv4))\n",
    "print(\"List after being mapped through function that returns input multiplied by 2:\")\n",
    "print(xiv5) #Note change"
   ]
  },
  {
   "cell_type": "markdown",
   "id": "ddd55bab",
   "metadata": {},
   "source": [
    "##### Part B"
   ]
  },
  {
   "cell_type": "markdown",
   "id": "72b934a7",
   "metadata": {},
   "source": [
    "i) cmp() So, for this one, I couldn't find it or how to use it in the book or directories or anything like that, nor could I call the info for the function if it existed. Then I did some googling, and I found that it existed in Python 2, but is not in Python 3. The basics of what it did was: type cmp(a,b), where a is a value and b is a value. If a>b, it would return 1, a<b, it would return -1, and if a=b, it would return 0. "
   ]
  },
  {
   "cell_type": "code",
   "execution_count": 267,
   "id": "656b2eb8",
   "metadata": {},
   "outputs": [
    {
     "name": "stdout",
     "output_type": "stream",
     "text": [
      "Object `tuple.cmp` not found.\n"
     ]
    }
   ],
   "source": [
    "tuple.cmp?"
   ]
  },
  {
   "cell_type": "code",
   "execution_count": 268,
   "id": "520f7c2f",
   "metadata": {},
   "outputs": [
    {
     "name": "stdout",
     "output_type": "stream",
     "text": [
      "Object `cmp` not found.\n"
     ]
    }
   ],
   "source": [
    "cmp?"
   ]
  },
  {
   "cell_type": "code",
   "execution_count": 269,
   "id": "a011027b",
   "metadata": {},
   "outputs": [
    {
     "data": {
      "text/plain": [
       "['__add__',\n",
       " '__class__',\n",
       " '__contains__',\n",
       " '__delattr__',\n",
       " '__dir__',\n",
       " '__doc__',\n",
       " '__eq__',\n",
       " '__format__',\n",
       " '__ge__',\n",
       " '__getattribute__',\n",
       " '__getitem__',\n",
       " '__getnewargs__',\n",
       " '__gt__',\n",
       " '__hash__',\n",
       " '__init__',\n",
       " '__init_subclass__',\n",
       " '__iter__',\n",
       " '__le__',\n",
       " '__len__',\n",
       " '__lt__',\n",
       " '__mul__',\n",
       " '__ne__',\n",
       " '__new__',\n",
       " '__reduce__',\n",
       " '__reduce_ex__',\n",
       " '__repr__',\n",
       " '__rmul__',\n",
       " '__setattr__',\n",
       " '__sizeof__',\n",
       " '__str__',\n",
       " '__subclasshook__',\n",
       " 'count',\n",
       " 'index']"
      ]
     },
     "execution_count": 269,
     "metadata": {},
     "output_type": "execute_result"
    }
   ],
   "source": [
    "dir(tuple)"
   ]
  },
  {
   "cell_type": "markdown",
   "id": "80102b89",
   "metadata": {},
   "source": [
    "ii) len() This counts the length, or number of elements, in a tuple (or list). This is most useful when the number of elements is uncertain and you would like to use an iterable to reference the value of each element, you just don't want to count them manually, or you edit the amount of elements regularly and don't want to risk forgetting to change a value. Type len(x) to use it, where x is the name of tuple or list you'd like to count the elements of."
   ]
  },
  {
   "cell_type": "code",
   "execution_count": 270,
   "id": "37019bf7",
   "metadata": {},
   "outputs": [
    {
     "data": {
      "text/plain": [
       "6"
      ]
     },
     "execution_count": 270,
     "metadata": {},
     "output_type": "execute_result"
    }
   ],
   "source": [
    "#Example b.ii\n",
    "tupleii1=(1,2,3,4,5,6)\n",
    "len(tupleii1)"
   ]
  },
  {
   "cell_type": "markdown",
   "id": "f6d451d9",
   "metadata": {},
   "source": [
    "iii) max() This finds the largest value element in a tuple or list. Type max(x) to use it, where x is the name of the tuple or list you'd like to find the largest element of."
   ]
  },
  {
   "cell_type": "code",
   "execution_count": 271,
   "id": "36c4cc8f",
   "metadata": {},
   "outputs": [
    {
     "data": {
      "text/plain": [
       "53245"
      ]
     },
     "execution_count": 271,
     "metadata": {},
     "output_type": "execute_result"
    }
   ],
   "source": [
    "tupleiii1=(41,13235,-12,53245,923,-9159353125)\n",
    "max(tupleiii1)"
   ]
  },
  {
   "cell_type": "markdown",
   "id": "7d9304ca",
   "metadata": {},
   "source": [
    "iv) tuple(seq) To create a tuple, you can write tuple(x), where x is a sequence. each value of the sequence will become an element in the tuple."
   ]
  },
  {
   "cell_type": "code",
   "execution_count": 273,
   "id": "7013ba1f",
   "metadata": {},
   "outputs": [
    {
     "data": {
      "text/plain": [
       "(0, 1, 2, 3, 4, 5)"
      ]
     },
     "execution_count": 273,
     "metadata": {},
     "output_type": "execute_result"
    }
   ],
   "source": [
    "#Example b.iv.1\n",
    "tupleiv1=tuple(range(6))\n",
    "tupleiv1"
   ]
  },
  {
   "cell_type": "code",
   "execution_count": 274,
   "id": "17d8f220",
   "metadata": {},
   "outputs": [
    {
     "data": {
      "text/plain": [
       "(1, 2, 45, 6, 234, 235, 235, 23, 532, 5, 23)"
      ]
     },
     "execution_count": 274,
     "metadata": {},
     "output_type": "execute_result"
    }
   ],
   "source": [
    "#Example b.iv.2\n",
    "listbiv1=[1,2,45,6,234,235,235,23,532,5,23]\n",
    "tupleiv2=tuple(listbiv1)\n",
    "tupleiv2"
   ]
  },
  {
   "cell_type": "code",
   "execution_count": 275,
   "id": "a949b44a",
   "metadata": {},
   "outputs": [
    {
     "data": {
      "text/plain": [
       "(36, 25, 32, 3, 14)"
      ]
     },
     "execution_count": 275,
     "metadata": {},
     "output_type": "execute_result"
    }
   ],
   "source": [
    "#Example b.iv.3\n",
    "tupleiv3=tuple(random.randrange(50) for i in range(5))\n",
    "tupleiv3"
   ]
  },
  {
   "cell_type": "markdown",
   "id": "55fdf8a9",
   "metadata": {},
   "source": [
    "##### Bonus"
   ]
  },
  {
   "cell_type": "markdown",
   "id": "43bb4303",
   "metadata": {},
   "source": [
    "i)  Write a function called rotate() that will accept a three-element tuple as an argument and then \n",
    "rotates the tuple. For example if the tuple contains (‘John’,’Kennedy’,41) the rotation should be \n",
    "(41,‘John’,’Kennedy’). Your function should return the tuple unpacked into individual variables: \n",
    "a, b, c. See page 163 in the text to remember how to unpack sequences."
   ]
  },
  {
   "cell_type": "code",
   "execution_count": 286,
   "id": "b58ed1b2",
   "metadata": {},
   "outputs": [],
   "source": [
    "def rotate(tup):\n",
    "    if type(tup)!=tuple:\n",
    "        return \"Sorry, input has to be a tuple that has 3 elements, and that's not a tuple!\"\n",
    "    elif len(tup)!=3:\n",
    "        return \"Sorry, input has to be a tuple that has 3 elements, and that doesn't have exactly 3 elements!\"\n",
    "    else:\n",
    "        a,b,c=tup\n",
    "        a,b,c=c,a,b\n",
    "        tup=(a,b,c)\n",
    "        return tup"
   ]
  },
  {
   "cell_type": "markdown",
   "id": "2740c757",
   "metadata": {},
   "source": [
    "ii) Write a function called encode() that will accept a list as an argument and return a copy of \n",
    "the list with all even numbers replaced by 1 and all odd numbers replaced by -1. For example, if \n",
    "your list is [49, 28, 23, 40, 72, 93, 68, 19, 64, 70], your function should return [-1, 1, -1, 1, 1, -1, \n",
    "1, -1, 1, 1]. Your list should be comprised of random numbers between 1 and 100"
   ]
  },
  {
   "cell_type": "code",
   "execution_count": 290,
   "id": "79802e15",
   "metadata": {},
   "outputs": [
    {
     "name": "stdout",
     "output_type": "stream",
     "text": [
      "[34, 36, 90, 91, 85, 20, 81, 53, 11, 48]\n"
     ]
    },
    {
     "data": {
      "text/plain": [
       "[1, 1, 1, -1, -1, 1, -1, -1, -1, 1]"
      ]
     },
     "execution_count": 290,
     "metadata": {},
     "output_type": "execute_result"
    }
   ],
   "source": [
    "import random\n",
    "ii=[random.randint(1,101) for i in range(10)]\n",
    "print(ii)\n",
    "def changer(x):\n",
    "    if x%2==0:\n",
    "        return 1\n",
    "    elif x%2==1:\n",
    "        return -1\n",
    "    else:\n",
    "        return x\n",
    "def encode(lis):\n",
    "    if type(lis)!=list:\n",
    "        return \"Sorry, input has to be a list!\"\n",
    "    else:\n",
    "        return list(map(changer,lis))\n",
    "encode(ii)\n",
    "        "
   ]
  },
  {
   "cell_type": "code",
   "execution_count": null,
   "id": "76b30373",
   "metadata": {},
   "outputs": [],
   "source": []
  },
  {
   "cell_type": "code",
   "execution_count": null,
   "id": "ba152c5d",
   "metadata": {},
   "outputs": [],
   "source": []
  }
 ],
 "metadata": {
  "kernelspec": {
   "display_name": "Python 3",
   "language": "python",
   "name": "python3"
  },
  "language_info": {
   "codemirror_mode": {
    "name": "ipython",
    "version": 3
   },
   "file_extension": ".py",
   "mimetype": "text/x-python",
   "name": "python",
   "nbconvert_exporter": "python",
   "pygments_lexer": "ipython3",
   "version": "3.8.8"
  }
 },
 "nbformat": 4,
 "nbformat_minor": 5
}
